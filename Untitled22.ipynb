{
 "cells": [
  {
   "cell_type": "code",
   "execution_count": 1,
   "id": "61bdf975-e723-490f-92e3-3c73d1068e2a",
   "metadata": {},
   "outputs": [],
   "source": [
    "class a:\n",
    "    def __init__(self):\n",
    "        self.cars=\"truck\"\n",
    "    def aname(self):\n",
    "        print(self.cars)\n",
    "\n",
    "class b(a):\n",
    "    def __init__(self):\n",
    "        super().__init__()\n",
    "        self.bike=\"RE\"\n",
    "    def bshow(self):\n",
    "        self.aname()\n",
    "    def bname(self):\n",
    "        print(self.bike)\n",
    "\n",
    "class c(b):\n",
    "    def __init__(self):\n",
    "        super().__init__()\n",
    "    def ishow(self):\n",
    "        self.bname()\n",
    "        self.bshow()"
   ]
  },
  {
   "cell_type": "code",
   "execution_count": 3,
   "id": "799040b9-3794-4a76-bca0-fff6ed76832f",
   "metadata": {},
   "outputs": [],
   "source": [
    "o=a()"
   ]
  },
  {
   "cell_type": "code",
   "execution_count": 42,
   "id": "4a59cbaf-01b6-4951-aa6d-b503d0091a03",
   "metadata": {},
   "outputs": [
    {
     "name": "stdout",
     "output_type": "stream",
     "text": [
      "truck\n"
     ]
    }
   ],
   "source": [
    "a().name()"
   ]
  },
  {
   "cell_type": "code",
   "execution_count": 13,
   "id": "a70fd682-18e9-47b4-8d65-86f6da1c8f77",
   "metadata": {},
   "outputs": [],
   "source": [
    "o.cars=o.cars+\"bmw\""
   ]
  },
  {
   "cell_type": "code",
   "execution_count": 15,
   "id": "7b9ccccd-0f6b-4a1d-a2e7-65257fb6141b",
   "metadata": {},
   "outputs": [
    {
     "name": "stdout",
     "output_type": "stream",
     "text": [
      "benzbmw\n"
     ]
    }
   ],
   "source": [
    "o.aname()"
   ]
  },
  {
   "cell_type": "code",
   "execution_count": 92,
   "id": "1c4950a9-29b1-48d5-9e88-26d9334d1e0a",
   "metadata": {},
   "outputs": [],
   "source": [
    "ob=b()"
   ]
  },
  {
   "cell_type": "code",
   "execution_count": 94,
   "id": "965634ee-7e60-43a9-9710-55a7474b7dcb",
   "metadata": {},
   "outputs": [
    {
     "name": "stdout",
     "output_type": "stream",
     "text": [
      "truck\n"
     ]
    }
   ],
   "source": [
    "ob.bshow()"
   ]
  },
  {
   "cell_type": "code",
   "execution_count": 96,
   "id": "2f2095a2-3e31-47e6-ab6d-d9d54a1ba184",
   "metadata": {},
   "outputs": [],
   "source": [
    "oc=c()"
   ]
  },
  {
   "cell_type": "code",
   "execution_count": 98,
   "id": "d26946e5-0070-4d3d-a25e-5791d543224a",
   "metadata": {},
   "outputs": [
    {
     "name": "stdout",
     "output_type": "stream",
     "text": [
      "RE\n",
      "truck\n"
     ]
    }
   ],
   "source": [
    "oc.ishow()"
   ]
  },
  {
   "cell_type": "code",
   "execution_count": 31,
   "id": "4177487a-450b-4a06-a7fe-376dcdfdcefa",
   "metadata": {},
   "outputs": [
    {
     "name": "stdout",
     "output_type": "stream",
     "text": [
      "1\n",
      "1\n",
      "2\n",
      "1\n",
      "2\n",
      "3\n"
     ]
    }
   ],
   "source": [
    "# Python Program for traversal of Singly Linked list\n",
    "class Node:\n",
    "    def __init__(self, data):\n",
    "        self.data = data\n",
    "        self.next = None\n",
    "\n",
    "def insert_at_beginning(head, data):\n",
    "    new_node = Node(data)\n",
    "    new_node.next = head\n",
    "    return new_node\n",
    "\n",
    "\n",
    "def insert_at_end(head, data):\n",
    "    new_node = Node(data)\n",
    "    if head is None:\n",
    "        return new_node\n",
    "    current = head\n",
    "    while current.next:\n",
    "        print(str(current.data))\n",
    "        current = current.next\n",
    "    current.next = new_node\n",
    "    return head\n",
    "\n",
    "\n",
    "def traverse(head):\n",
    "    current = head\n",
    "\n",
    "    while current:\n",
    "\n",
    "        print(str(current.data) + \" -> \", end=\" \")\n",
    "        current = current.next\n",
    "    # At the end of the list, print None to indicate no further nodes\n",
    "    print(\"None\")\n",
    "\n",
    "# Singly linked list created and its head stored in a variable named \"head\"\n",
    "head = None\n",
    "head = insert_at_end(head, 1)\n",
    "\n",
    "head = insert_at_end(head, 2)\n",
    "\n",
    "head = insert_at_end(head, 3)\n",
    "\n",
    "head = insert_at_end(head, 4)\n",
    "head = insert_at_end(head, 5)"
   ]
  },
  {
   "cell_type": "code",
   "execution_count": 27,
   "id": "552c6a88-c696-45ae-98af-b7669221b010",
   "metadata": {},
   "outputs": [
    {
     "name": "stdout",
     "output_type": "stream",
     "text": [
      "1 ->  2 ->  3 ->  4 ->  5 ->  None\n"
     ]
    }
   ],
   "source": [
    "traverse(head)"
   ]
  },
  {
   "cell_type": "code",
   "execution_count": null,
   "id": "6309c35e-f46d-4918-8ded-d1985adb9511",
   "metadata": {},
   "outputs": [],
   "source": []
  }
 ],
 "metadata": {
  "kernelspec": {
   "display_name": "Python [conda env:base] *",
   "language": "python",
   "name": "conda-base-py"
  },
  "language_info": {
   "codemirror_mode": {
    "name": "ipython",
    "version": 3
   },
   "file_extension": ".py",
   "mimetype": "text/x-python",
   "name": "python",
   "nbconvert_exporter": "python",
   "pygments_lexer": "ipython3",
   "version": "3.12.7"
  }
 },
 "nbformat": 4,
 "nbformat_minor": 5
}
